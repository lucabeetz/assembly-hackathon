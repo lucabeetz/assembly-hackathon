{
 "cells": [
  {
   "cell_type": "code",
   "execution_count": 1,
   "metadata": {},
   "outputs": [],
   "source": [
    "from assemblyai_api import get_paragraphs_from_yt\n",
    "\n",
    "yt_url = 'https://www.youtube.com/watch?v=YoXxevp1WRQ'"
   ]
  },
  {
   "cell_type": "code",
   "execution_count": 2,
   "metadata": {},
   "outputs": [
    {
     "name": "stderr",
     "output_type": "stream",
     "text": [
      "ffmpeg version 5.1.2 Copyright (c) 2000-2022 the FFmpeg developers\n",
      "  built with Apple clang version 14.0.0 (clang-1400.0.29.202)\n",
      "  configuration: --prefix=/opt/homebrew/Cellar/ffmpeg/5.1.2_1 --enable-shared --enable-pthreads --enable-version3 --cc=clang --host-cflags= --host-ldflags= --enable-ffplay --enable-gnutls --enable-gpl --enable-libaom --enable-libbluray --enable-libdav1d --enable-libmp3lame --enable-libopus --enable-librav1e --enable-librist --enable-librubberband --enable-libsnappy --enable-libsrt --enable-libtesseract --enable-libtheora --enable-libvidstab --enable-libvmaf --enable-libvorbis --enable-libvpx --enable-libwebp --enable-libx264 --enable-libx265 --enable-libxml2 --enable-libxvid --enable-lzma --enable-libfontconfig --enable-libfreetype --enable-frei0r --enable-libass --enable-libopencore-amrnb --enable-libopencore-amrwb --enable-libopenjpeg --enable-libspeex --enable-libsoxr --enable-libzmq --enable-libzimg --disable-libjack --disable-indev=jack --enable-videotoolbox --enable-neon\n",
      "  libavutil      57. 28.100 / 57. 28.100\n",
      "  libavcodec     59. 37.100 / 59. 37.100\n",
      "  libavformat    59. 27.100 / 59. 27.100\n",
      "  libavdevice    59.  7.100 / 59.  7.100\n",
      "  libavfilter     8. 44.100 /  8. 44.100\n",
      "  libswscale      6.  7.100 /  6.  7.100\n",
      "  libswresample   4.  7.100 /  4.  7.100\n",
      "  libpostproc    56.  6.100 / 56.  6.100\n",
      "Input #0, mov,mp4,m4a,3gp,3g2,mj2, from 'ffmpegPreProcess.mp4':\n",
      "  Metadata:\n",
      "    major_brand     : dash\n",
      "    minor_version   : 0\n",
      "    compatible_brands: iso6mp41\n",
      "    creation_time   : 2021-01-03T09:08:04.000000Z\n",
      "  Duration: 01:41:53.86, start: 0.000000, bitrate: 129 kb/s\n",
      "  Stream #0:0[0x1](eng): Audio: aac (LC) (mp4a / 0x6134706D), 44100 Hz, stereo, fltp, 0 kb/s (default)\n",
      "    Metadata:\n",
      "      creation_time   : 2021-01-03T09:08:04.000000Z\n",
      "      handler_name    : ISO Media file produced by Google Inc.\n",
      "      vendor_id       : [0][0][0][0]\n",
      "Stream mapping:\n",
      "  Stream #0:0 -> #0:0 (aac (native) -> aac (native))\n",
      "Press [q] to stop, [?] for help\n",
      "Output #0, mp4, to 'tmp_yt.mp4':\n",
      "  Metadata:\n",
      "    major_brand     : dash\n",
      "    minor_version   : 0\n",
      "    compatible_brands: iso6mp41\n",
      "    encoder         : Lavf59.27.100\n",
      "  Stream #0:0(eng): Audio: aac (LC) (mp4a / 0x6134706D), 44100 Hz, stereo, fltp, 128 kb/s (default)\n",
      "    Metadata:\n",
      "      creation_time   : 2021-01-03T09:08:04.000000Z\n",
      "      handler_name    : ISO Media file produced by Google Inc.\n",
      "      vendor_id       : [0][0][0][0]\n",
      "      encoder         : Lavc59.37.100 aac\n",
      "size=   96292kB time=01:41:53.86 bitrate= 129.0kbits/s speed=28.6x    \n",
      "video:0kB audio:95261kB subtitle:0kB other streams:0kB global headers:0kB muxing overhead: 1.082007%\n",
      "[aac @ 0x15a633b20] Qavg: 575.412\n"
     ]
    },
    {
     "name": "stdout",
     "output_type": "stream",
     "text": [
      "Downloaded in 226590433000 ns\n",
      "Uploaded in 37479364000 ns\n",
      "Transcribed in 438498916000 ns\n",
      "Got paragraphs in 2859047000 ns\n"
     ]
    }
   ],
   "source": [
    "paragraphs = get_paragraphs_from_yt(yt_url)"
   ]
  },
  {
   "cell_type": "code",
   "execution_count": 11,
   "metadata": {},
   "outputs": [],
   "source": [
    "'''\n",
    "Downloaded in 12441473000 ns\n",
    "Uploaded in 34786689000 ns\n",
    "Transcribed in 461681587000 ns\n",
    "Got paragraphs in 2563220000 ns\n",
    "'''\n",
    "\n",
    "import json\n",
    "with open('paragraphs.json', 'w') as f:\n",
    "    json.dump(paragraphs, f)"
   ]
  },
  {
   "cell_type": "code",
   "execution_count": 1,
   "metadata": {},
   "outputs": [],
   "source": [
    "from assemblyai_api import download_yt\n",
    "yt_url = 'https://www.youtube.com/watch?v=YoXxevp1WRQ'\n",
    "download_yt(yt_url, \"longvideo.mp4\")"
   ]
  },
  {
   "cell_type": "code",
   "execution_count": 2,
   "metadata": {},
   "outputs": [
    {
     "ename": "NameError",
     "evalue": "name 'get_paragraphs_from_pdf' is not defined",
     "output_type": "error",
     "traceback": [
      "\u001b[0;31m---------------------------------------------------------------------------\u001b[0m",
      "\u001b[0;31mNameError\u001b[0m                                 Traceback (most recent call last)",
      "Cell \u001b[0;32mIn [2], line 3\u001b[0m\n\u001b[1;32m      1\u001b[0m \u001b[39mimport\u001b[39;00m \u001b[39mfile_reader\u001b[39;00m\n\u001b[0;32m----> 3\u001b[0m get_paragraphs_from_pdf(\u001b[39m'\u001b[39m\u001b[39med.pdf\u001b[39m\u001b[39m'\u001b[39m)\n",
      "\u001b[0;31mNameError\u001b[0m: name 'get_paragraphs_from_pdf' is not defined"
     ]
    }
   ],
   "source": [
    "import file_reader\n",
    "\n",
    "file_reader.get_paragraphs_from_pdf('ed.pdf')"
   ]
  }
 ],
 "metadata": {
  "kernelspec": {
   "display_name": "Python 3.10.8 ('verbel')",
   "language": "python",
   "name": "python3"
  },
  "language_info": {
   "codemirror_mode": {
    "name": "ipython",
    "version": 3
   },
   "file_extension": ".py",
   "mimetype": "text/x-python",
   "name": "python",
   "nbconvert_exporter": "python",
   "pygments_lexer": "ipython3",
   "version": "3.10.8"
  },
  "orig_nbformat": 4,
  "vscode": {
   "interpreter": {
    "hash": "f1bc8a90497ff0a83aebeacee60c5988aa84b4cf2febb7e9d236af33cf1c7eff"
   }
  }
 },
 "nbformat": 4,
 "nbformat_minor": 2
}
